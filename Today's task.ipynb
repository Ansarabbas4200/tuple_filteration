{
 "cells": [
  {
   "cell_type": "markdown",
   "id": "fb6dcd6a",
   "metadata": {},
   "source": [
    "#### write a python method whcih take an array with multiple tuples.. and a string to find in the tuples, method will return the array with removal of blank tuples and return the tuple which have the searched value"
   ]
  },
  {
   "cell_type": "code",
   "execution_count": 7,
   "id": "e8f00406",
   "metadata": {},
   "outputs": [
    {
     "data": {
      "text/plain": [
       "[('ram', '15', '8'), ('laxman', 'sita'), ('krishna', 'akbar', '45'), ',']"
      ]
     },
     "execution_count": 7,
     "metadata": {},
     "output_type": "execute_result"
    }
   ],
   "source": [
    "def tuple_operations(x):\n",
    "    new_list = []\n",
    "    ind = 1\n",
    "    for items in x:\n",
    "        if len(items) >= 1:\n",
    "            new_list.insert(ind, items)\n",
    "            ind += 1\n",
    "    return new_list\n",
    "            \n",
    "array = [(), ('ram','15','8'), (), ('laxman', 'sita'), ('krishna', 'akbar', '45'), (\",\"),()]\n",
    "tuple_operations(array)"
   ]
  }
 ],
 "metadata": {
  "kernelspec": {
   "display_name": "Python 3 (ipykernel)",
   "language": "python",
   "name": "python3"
  },
  "language_info": {
   "codemirror_mode": {
    "name": "ipython",
    "version": 3
   },
   "file_extension": ".py",
   "mimetype": "text/x-python",
   "name": "python",
   "nbconvert_exporter": "python",
   "pygments_lexer": "ipython3",
   "version": "3.9.13"
  }
 },
 "nbformat": 4,
 "nbformat_minor": 5
}
